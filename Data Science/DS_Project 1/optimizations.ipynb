{
 "cells": [
  {
   "cell_type": "code",
   "execution_count": 1,
   "id": "858c53b7-6610-4985-8a1b-f37d54f2eaa9",
   "metadata": {},
   "outputs": [],
   "source": [
    "import pandas as pd\n",
    "import gc"
   ]
  },
  {
   "cell_type": "markdown",
   "id": "0cd88e99-4937-4a3f-a86a-c86599a533b0",
   "metadata": {},
   "source": [
    "## read the fines.csv"
   ]
  },
  {
   "cell_type": "code",
   "execution_count": 2,
   "id": "4a184285-e50a-4ac8-8ce1-9e13020417af",
   "metadata": {},
   "outputs": [
    {
     "data": {
      "text/html": [
       "<div>\n",
       "<style scoped>\n",
       "    .dataframe tbody tr th:only-of-type {\n",
       "        vertical-align: middle;\n",
       "    }\n",
       "\n",
       "    .dataframe tbody tr th {\n",
       "        vertical-align: top;\n",
       "    }\n",
       "\n",
       "    .dataframe thead th {\n",
       "        text-align: right;\n",
       "    }\n",
       "</style>\n",
       "<table border=\"1\" class=\"dataframe\">\n",
       "  <thead>\n",
       "    <tr style=\"text-align: right;\">\n",
       "      <th></th>\n",
       "      <th>CarNumber</th>\n",
       "      <th>Refund</th>\n",
       "      <th>Fines</th>\n",
       "      <th>Make</th>\n",
       "      <th>Model</th>\n",
       "      <th>Year</th>\n",
       "    </tr>\n",
       "  </thead>\n",
       "  <tbody>\n",
       "    <tr>\n",
       "      <th>0</th>\n",
       "      <td>Y163O8161RUS</td>\n",
       "      <td>2</td>\n",
       "      <td>3200.0</td>\n",
       "      <td>Ford</td>\n",
       "      <td>Focus</td>\n",
       "      <td>2018</td>\n",
       "    </tr>\n",
       "    <tr>\n",
       "      <th>1</th>\n",
       "      <td>E432XX77RUS</td>\n",
       "      <td>1</td>\n",
       "      <td>6500.0</td>\n",
       "      <td>Toyota</td>\n",
       "      <td>Camry</td>\n",
       "      <td>2008</td>\n",
       "    </tr>\n",
       "    <tr>\n",
       "      <th>2</th>\n",
       "      <td>7184TT36RUS</td>\n",
       "      <td>1</td>\n",
       "      <td>2100.0</td>\n",
       "      <td>Ford</td>\n",
       "      <td>Focus</td>\n",
       "      <td>1994</td>\n",
       "    </tr>\n",
       "    <tr>\n",
       "      <th>3</th>\n",
       "      <td>X582HE161RUS</td>\n",
       "      <td>2</td>\n",
       "      <td>2000.0</td>\n",
       "      <td>Ford</td>\n",
       "      <td>Focus</td>\n",
       "      <td>1987</td>\n",
       "    </tr>\n",
       "    <tr>\n",
       "      <th>4</th>\n",
       "      <td>92918M178RUS</td>\n",
       "      <td>1</td>\n",
       "      <td>5700.0</td>\n",
       "      <td>Ford</td>\n",
       "      <td>Focus</td>\n",
       "      <td>2000</td>\n",
       "    </tr>\n",
       "    <tr>\n",
       "      <th>...</th>\n",
       "      <td>...</td>\n",
       "      <td>...</td>\n",
       "      <td>...</td>\n",
       "      <td>...</td>\n",
       "      <td>...</td>\n",
       "      <td>...</td>\n",
       "    </tr>\n",
       "    <tr>\n",
       "      <th>925</th>\n",
       "      <td>S21RUS</td>\n",
       "      <td>1</td>\n",
       "      <td>1500.0</td>\n",
       "      <td>Honda</td>\n",
       "      <td>Civic</td>\n",
       "      <td>2020</td>\n",
       "    </tr>\n",
       "    <tr>\n",
       "      <th>926</th>\n",
       "      <td>S22RUS</td>\n",
       "      <td>1</td>\n",
       "      <td>2300.0</td>\n",
       "      <td>Nissan</td>\n",
       "      <td>Altima</td>\n",
       "      <td>2018</td>\n",
       "    </tr>\n",
       "    <tr>\n",
       "      <th>927</th>\n",
       "      <td>S23RUS</td>\n",
       "      <td>2</td>\n",
       "      <td>4000.0</td>\n",
       "      <td>Chevrolet</td>\n",
       "      <td>Malibu</td>\n",
       "      <td>2019</td>\n",
       "    </tr>\n",
       "    <tr>\n",
       "      <th>928</th>\n",
       "      <td>S24RUS</td>\n",
       "      <td>1</td>\n",
       "      <td>3500.0</td>\n",
       "      <td>Hyundai</td>\n",
       "      <td>Elantra</td>\n",
       "      <td>2021</td>\n",
       "    </tr>\n",
       "    <tr>\n",
       "      <th>929</th>\n",
       "      <td>S25RUS</td>\n",
       "      <td>1</td>\n",
       "      <td>5600.0</td>\n",
       "      <td>Kia</td>\n",
       "      <td>Soul</td>\n",
       "      <td>2022</td>\n",
       "    </tr>\n",
       "  </tbody>\n",
       "</table>\n",
       "<p>930 rows × 6 columns</p>\n",
       "</div>"
      ],
      "text/plain": [
       "        CarNumber  Refund   Fines       Make    Model  Year\n",
       "0    Y163O8161RUS       2  3200.0       Ford    Focus  2018\n",
       "1     E432XX77RUS       1  6500.0     Toyota    Camry  2008\n",
       "2     7184TT36RUS       1  2100.0       Ford    Focus  1994\n",
       "3    X582HE161RUS       2  2000.0       Ford    Focus  1987\n",
       "4    92918M178RUS       1  5700.0       Ford    Focus  2000\n",
       "..            ...     ...     ...        ...      ...   ...\n",
       "925        S21RUS       1  1500.0      Honda    Civic  2020\n",
       "926        S22RUS       1  2300.0     Nissan   Altima  2018\n",
       "927        S23RUS       2  4000.0  Chevrolet   Malibu  2019\n",
       "928        S24RUS       1  3500.0    Hyundai  Elantra  2021\n",
       "929        S25RUS       1  5600.0        Kia     Soul  2022\n",
       "\n",
       "[930 rows x 6 columns]"
      ]
     },
     "execution_count": 2,
     "metadata": {},
     "output_type": "execute_result"
    }
   ],
   "source": [
    "df = pd.read_csv('../data/fines.csv')\n",
    "df"
   ]
  },
  {
   "cell_type": "markdown",
   "id": "6fdcf9cd-aac9-4cf7-80c2-7fd223e7048f",
   "metadata": {},
   "source": [
    "## iterations\n",
    "in all the following subtasks, you need to calculate `fines/refund*year` for\n",
    "each row and create a new column with the calculated data and measure the time"
   ]
  },
  {
   "cell_type": "markdown",
   "id": "5bb029e7-0921-4263-929f-309f6e443f12",
   "metadata": {},
   "source": [
    "### loop\n",
    "write a function that iterates through the dataframe using `for i in range(0, len(df))`, `iloc` and `append()` to a list, assign the result of the function to a new column in the dataframe"
   ]
  },
  {
   "cell_type": "code",
   "execution_count": 3,
   "id": "966cc7a2-5615-44b4-8fbd-17845ed64cc7",
   "metadata": {},
   "outputs": [],
   "source": [
    "def loop(df):\n",
    "    res = []\n",
    "    for i in range(0, len(df)):\n",
    "        row = df.iloc[i]\n",
    "        res.append(row['Fines'] / row['Refund'] * row['Year'])\n",
    "    return res"
   ]
  },
  {
   "cell_type": "code",
   "execution_count": 4,
   "id": "13dca400-6f96-4e7d-965f-3c3ff854d64f",
   "metadata": {},
   "outputs": [
    {
     "name": "stdout",
     "output_type": "stream",
     "text": [
      "55.7 ms ± 2.83 ms per loop (mean ± std. dev. of 7 runs, 10 loops each)\n"
     ]
    }
   ],
   "source": [
    "%%timeit\n",
    "df['Calculated'] = loop(df)"
   ]
  },
  {
   "cell_type": "code",
   "execution_count": 5,
   "id": "3188b34a-0df2-485b-a996-8d82b6b31737",
   "metadata": {},
   "outputs": [
    {
     "data": {
      "text/html": [
       "<div>\n",
       "<style scoped>\n",
       "    .dataframe tbody tr th:only-of-type {\n",
       "        vertical-align: middle;\n",
       "    }\n",
       "\n",
       "    .dataframe tbody tr th {\n",
       "        vertical-align: top;\n",
       "    }\n",
       "\n",
       "    .dataframe thead th {\n",
       "        text-align: right;\n",
       "    }\n",
       "</style>\n",
       "<table border=\"1\" class=\"dataframe\">\n",
       "  <thead>\n",
       "    <tr style=\"text-align: right;\">\n",
       "      <th></th>\n",
       "      <th>CarNumber</th>\n",
       "      <th>Refund</th>\n",
       "      <th>Fines</th>\n",
       "      <th>Make</th>\n",
       "      <th>Model</th>\n",
       "      <th>Year</th>\n",
       "      <th>Calculated</th>\n",
       "    </tr>\n",
       "  </thead>\n",
       "  <tbody>\n",
       "    <tr>\n",
       "      <th>0</th>\n",
       "      <td>Y163O8161RUS</td>\n",
       "      <td>2</td>\n",
       "      <td>3200.0</td>\n",
       "      <td>Ford</td>\n",
       "      <td>Focus</td>\n",
       "      <td>2018</td>\n",
       "      <td>3228800.0</td>\n",
       "    </tr>\n",
       "    <tr>\n",
       "      <th>1</th>\n",
       "      <td>E432XX77RUS</td>\n",
       "      <td>1</td>\n",
       "      <td>6500.0</td>\n",
       "      <td>Toyota</td>\n",
       "      <td>Camry</td>\n",
       "      <td>2008</td>\n",
       "      <td>13052000.0</td>\n",
       "    </tr>\n",
       "    <tr>\n",
       "      <th>2</th>\n",
       "      <td>7184TT36RUS</td>\n",
       "      <td>1</td>\n",
       "      <td>2100.0</td>\n",
       "      <td>Ford</td>\n",
       "      <td>Focus</td>\n",
       "      <td>1994</td>\n",
       "      <td>4187400.0</td>\n",
       "    </tr>\n",
       "    <tr>\n",
       "      <th>3</th>\n",
       "      <td>X582HE161RUS</td>\n",
       "      <td>2</td>\n",
       "      <td>2000.0</td>\n",
       "      <td>Ford</td>\n",
       "      <td>Focus</td>\n",
       "      <td>1987</td>\n",
       "      <td>1987000.0</td>\n",
       "    </tr>\n",
       "    <tr>\n",
       "      <th>4</th>\n",
       "      <td>92918M178RUS</td>\n",
       "      <td>1</td>\n",
       "      <td>5700.0</td>\n",
       "      <td>Ford</td>\n",
       "      <td>Focus</td>\n",
       "      <td>2000</td>\n",
       "      <td>11400000.0</td>\n",
       "    </tr>\n",
       "    <tr>\n",
       "      <th>...</th>\n",
       "      <td>...</td>\n",
       "      <td>...</td>\n",
       "      <td>...</td>\n",
       "      <td>...</td>\n",
       "      <td>...</td>\n",
       "      <td>...</td>\n",
       "      <td>...</td>\n",
       "    </tr>\n",
       "    <tr>\n",
       "      <th>925</th>\n",
       "      <td>S21RUS</td>\n",
       "      <td>1</td>\n",
       "      <td>1500.0</td>\n",
       "      <td>Honda</td>\n",
       "      <td>Civic</td>\n",
       "      <td>2020</td>\n",
       "      <td>3030000.0</td>\n",
       "    </tr>\n",
       "    <tr>\n",
       "      <th>926</th>\n",
       "      <td>S22RUS</td>\n",
       "      <td>1</td>\n",
       "      <td>2300.0</td>\n",
       "      <td>Nissan</td>\n",
       "      <td>Altima</td>\n",
       "      <td>2018</td>\n",
       "      <td>4641400.0</td>\n",
       "    </tr>\n",
       "    <tr>\n",
       "      <th>927</th>\n",
       "      <td>S23RUS</td>\n",
       "      <td>2</td>\n",
       "      <td>4000.0</td>\n",
       "      <td>Chevrolet</td>\n",
       "      <td>Malibu</td>\n",
       "      <td>2019</td>\n",
       "      <td>4038000.0</td>\n",
       "    </tr>\n",
       "    <tr>\n",
       "      <th>928</th>\n",
       "      <td>S24RUS</td>\n",
       "      <td>1</td>\n",
       "      <td>3500.0</td>\n",
       "      <td>Hyundai</td>\n",
       "      <td>Elantra</td>\n",
       "      <td>2021</td>\n",
       "      <td>7073500.0</td>\n",
       "    </tr>\n",
       "    <tr>\n",
       "      <th>929</th>\n",
       "      <td>S25RUS</td>\n",
       "      <td>1</td>\n",
       "      <td>5600.0</td>\n",
       "      <td>Kia</td>\n",
       "      <td>Soul</td>\n",
       "      <td>2022</td>\n",
       "      <td>11323200.0</td>\n",
       "    </tr>\n",
       "  </tbody>\n",
       "</table>\n",
       "<p>930 rows × 7 columns</p>\n",
       "</div>"
      ],
      "text/plain": [
       "        CarNumber  Refund   Fines       Make    Model  Year  Calculated\n",
       "0    Y163O8161RUS       2  3200.0       Ford    Focus  2018   3228800.0\n",
       "1     E432XX77RUS       1  6500.0     Toyota    Camry  2008  13052000.0\n",
       "2     7184TT36RUS       1  2100.0       Ford    Focus  1994   4187400.0\n",
       "3    X582HE161RUS       2  2000.0       Ford    Focus  1987   1987000.0\n",
       "4    92918M178RUS       1  5700.0       Ford    Focus  2000  11400000.0\n",
       "..            ...     ...     ...        ...      ...   ...         ...\n",
       "925        S21RUS       1  1500.0      Honda    Civic  2020   3030000.0\n",
       "926        S22RUS       1  2300.0     Nissan   Altima  2018   4641400.0\n",
       "927        S23RUS       2  4000.0  Chevrolet   Malibu  2019   4038000.0\n",
       "928        S24RUS       1  3500.0    Hyundai  Elantra  2021   7073500.0\n",
       "929        S25RUS       1  5600.0        Kia     Soul  2022  11323200.0\n",
       "\n",
       "[930 rows x 7 columns]"
      ]
     },
     "execution_count": 5,
     "metadata": {},
     "output_type": "execute_result"
    }
   ],
   "source": [
    "df['Calculated'] = loop(df)\n",
    "df"
   ]
  },
  {
   "cell_type": "markdown",
   "id": "5269f8f3-9a3c-434c-8bc3-b5eb8f90d8bb",
   "metadata": {},
   "source": [
    "### do it using `iterrows()`"
   ]
  },
  {
   "cell_type": "code",
   "execution_count": 6,
   "id": "f3b9d529-2f28-48f0-9d1c-c2c48f19ed1a",
   "metadata": {},
   "outputs": [
    {
     "name": "stdout",
     "output_type": "stream",
     "text": [
      "51.9 ms ± 5.29 ms per loop (mean ± std. dev. of 7 runs, 10 loops each)\n"
     ]
    }
   ],
   "source": [
    "%%timeit\n",
    "df['Calculated'] = [row['Fines'] / row['Refund'] * row['Year'] for _, row in df.iterrows()]"
   ]
  },
  {
   "cell_type": "code",
   "execution_count": 7,
   "id": "5ce90a88-e301-4c54-8e55-79b81548c4b5",
   "metadata": {},
   "outputs": [
    {
     "data": {
      "text/html": [
       "<div>\n",
       "<style scoped>\n",
       "    .dataframe tbody tr th:only-of-type {\n",
       "        vertical-align: middle;\n",
       "    }\n",
       "\n",
       "    .dataframe tbody tr th {\n",
       "        vertical-align: top;\n",
       "    }\n",
       "\n",
       "    .dataframe thead th {\n",
       "        text-align: right;\n",
       "    }\n",
       "</style>\n",
       "<table border=\"1\" class=\"dataframe\">\n",
       "  <thead>\n",
       "    <tr style=\"text-align: right;\">\n",
       "      <th></th>\n",
       "      <th>CarNumber</th>\n",
       "      <th>Refund</th>\n",
       "      <th>Fines</th>\n",
       "      <th>Make</th>\n",
       "      <th>Model</th>\n",
       "      <th>Year</th>\n",
       "      <th>Calculated</th>\n",
       "    </tr>\n",
       "  </thead>\n",
       "  <tbody>\n",
       "    <tr>\n",
       "      <th>0</th>\n",
       "      <td>Y163O8161RUS</td>\n",
       "      <td>2</td>\n",
       "      <td>3200.0</td>\n",
       "      <td>Ford</td>\n",
       "      <td>Focus</td>\n",
       "      <td>2018</td>\n",
       "      <td>3228800.0</td>\n",
       "    </tr>\n",
       "    <tr>\n",
       "      <th>1</th>\n",
       "      <td>E432XX77RUS</td>\n",
       "      <td>1</td>\n",
       "      <td>6500.0</td>\n",
       "      <td>Toyota</td>\n",
       "      <td>Camry</td>\n",
       "      <td>2008</td>\n",
       "      <td>13052000.0</td>\n",
       "    </tr>\n",
       "    <tr>\n",
       "      <th>2</th>\n",
       "      <td>7184TT36RUS</td>\n",
       "      <td>1</td>\n",
       "      <td>2100.0</td>\n",
       "      <td>Ford</td>\n",
       "      <td>Focus</td>\n",
       "      <td>1994</td>\n",
       "      <td>4187400.0</td>\n",
       "    </tr>\n",
       "    <tr>\n",
       "      <th>3</th>\n",
       "      <td>X582HE161RUS</td>\n",
       "      <td>2</td>\n",
       "      <td>2000.0</td>\n",
       "      <td>Ford</td>\n",
       "      <td>Focus</td>\n",
       "      <td>1987</td>\n",
       "      <td>1987000.0</td>\n",
       "    </tr>\n",
       "    <tr>\n",
       "      <th>4</th>\n",
       "      <td>92918M178RUS</td>\n",
       "      <td>1</td>\n",
       "      <td>5700.0</td>\n",
       "      <td>Ford</td>\n",
       "      <td>Focus</td>\n",
       "      <td>2000</td>\n",
       "      <td>11400000.0</td>\n",
       "    </tr>\n",
       "    <tr>\n",
       "      <th>...</th>\n",
       "      <td>...</td>\n",
       "      <td>...</td>\n",
       "      <td>...</td>\n",
       "      <td>...</td>\n",
       "      <td>...</td>\n",
       "      <td>...</td>\n",
       "      <td>...</td>\n",
       "    </tr>\n",
       "    <tr>\n",
       "      <th>925</th>\n",
       "      <td>S21RUS</td>\n",
       "      <td>1</td>\n",
       "      <td>1500.0</td>\n",
       "      <td>Honda</td>\n",
       "      <td>Civic</td>\n",
       "      <td>2020</td>\n",
       "      <td>3030000.0</td>\n",
       "    </tr>\n",
       "    <tr>\n",
       "      <th>926</th>\n",
       "      <td>S22RUS</td>\n",
       "      <td>1</td>\n",
       "      <td>2300.0</td>\n",
       "      <td>Nissan</td>\n",
       "      <td>Altima</td>\n",
       "      <td>2018</td>\n",
       "      <td>4641400.0</td>\n",
       "    </tr>\n",
       "    <tr>\n",
       "      <th>927</th>\n",
       "      <td>S23RUS</td>\n",
       "      <td>2</td>\n",
       "      <td>4000.0</td>\n",
       "      <td>Chevrolet</td>\n",
       "      <td>Malibu</td>\n",
       "      <td>2019</td>\n",
       "      <td>4038000.0</td>\n",
       "    </tr>\n",
       "    <tr>\n",
       "      <th>928</th>\n",
       "      <td>S24RUS</td>\n",
       "      <td>1</td>\n",
       "      <td>3500.0</td>\n",
       "      <td>Hyundai</td>\n",
       "      <td>Elantra</td>\n",
       "      <td>2021</td>\n",
       "      <td>7073500.0</td>\n",
       "    </tr>\n",
       "    <tr>\n",
       "      <th>929</th>\n",
       "      <td>S25RUS</td>\n",
       "      <td>1</td>\n",
       "      <td>5600.0</td>\n",
       "      <td>Kia</td>\n",
       "      <td>Soul</td>\n",
       "      <td>2022</td>\n",
       "      <td>11323200.0</td>\n",
       "    </tr>\n",
       "  </tbody>\n",
       "</table>\n",
       "<p>930 rows × 7 columns</p>\n",
       "</div>"
      ],
      "text/plain": [
       "        CarNumber  Refund   Fines       Make    Model  Year  Calculated\n",
       "0    Y163O8161RUS       2  3200.0       Ford    Focus  2018   3228800.0\n",
       "1     E432XX77RUS       1  6500.0     Toyota    Camry  2008  13052000.0\n",
       "2     7184TT36RUS       1  2100.0       Ford    Focus  1994   4187400.0\n",
       "3    X582HE161RUS       2  2000.0       Ford    Focus  1987   1987000.0\n",
       "4    92918M178RUS       1  5700.0       Ford    Focus  2000  11400000.0\n",
       "..            ...     ...     ...        ...      ...   ...         ...\n",
       "925        S21RUS       1  1500.0      Honda    Civic  2020   3030000.0\n",
       "926        S22RUS       1  2300.0     Nissan   Altima  2018   4641400.0\n",
       "927        S23RUS       2  4000.0  Chevrolet   Malibu  2019   4038000.0\n",
       "928        S24RUS       1  3500.0    Hyundai  Elantra  2021   7073500.0\n",
       "929        S25RUS       1  5600.0        Kia     Soul  2022  11323200.0\n",
       "\n",
       "[930 rows x 7 columns]"
      ]
     },
     "execution_count": 7,
     "metadata": {},
     "output_type": "execute_result"
    }
   ],
   "source": [
    "df['Calculated'] = [row['Fines'] / row['Refund'] * row['Year'] for _, row in df.iterrows()]\n",
    "df"
   ]
  },
  {
   "cell_type": "markdown",
   "id": "d95099d7-c88a-4c4b-9818-50c65758c244",
   "metadata": {},
   "source": [
    "### do it using `apply()` and lambda function"
   ]
  },
  {
   "cell_type": "code",
   "execution_count": 8,
   "id": "f8396fe1-73e3-4be3-bbbd-ee8a3adc35af",
   "metadata": {},
   "outputs": [
    {
     "name": "stdout",
     "output_type": "stream",
     "text": [
      "9.25 ms ± 547 μs per loop (mean ± std. dev. of 7 runs, 100 loops each)\n"
     ]
    }
   ],
   "source": [
    "%%timeit\n",
    "df['Calculated'] = df.apply(lambda row: row['Fines'] / row['Refund'] * row['Year'], axis=1)"
   ]
  },
  {
   "cell_type": "code",
   "execution_count": 9,
   "id": "cc8f568d-e9d7-4deb-8310-ce2db8810ee1",
   "metadata": {},
   "outputs": [
    {
     "data": {
      "text/html": [
       "<div>\n",
       "<style scoped>\n",
       "    .dataframe tbody tr th:only-of-type {\n",
       "        vertical-align: middle;\n",
       "    }\n",
       "\n",
       "    .dataframe tbody tr th {\n",
       "        vertical-align: top;\n",
       "    }\n",
       "\n",
       "    .dataframe thead th {\n",
       "        text-align: right;\n",
       "    }\n",
       "</style>\n",
       "<table border=\"1\" class=\"dataframe\">\n",
       "  <thead>\n",
       "    <tr style=\"text-align: right;\">\n",
       "      <th></th>\n",
       "      <th>CarNumber</th>\n",
       "      <th>Refund</th>\n",
       "      <th>Fines</th>\n",
       "      <th>Make</th>\n",
       "      <th>Model</th>\n",
       "      <th>Year</th>\n",
       "      <th>Calculated</th>\n",
       "    </tr>\n",
       "  </thead>\n",
       "  <tbody>\n",
       "    <tr>\n",
       "      <th>0</th>\n",
       "      <td>Y163O8161RUS</td>\n",
       "      <td>2</td>\n",
       "      <td>3200.0</td>\n",
       "      <td>Ford</td>\n",
       "      <td>Focus</td>\n",
       "      <td>2018</td>\n",
       "      <td>3228800.0</td>\n",
       "    </tr>\n",
       "    <tr>\n",
       "      <th>1</th>\n",
       "      <td>E432XX77RUS</td>\n",
       "      <td>1</td>\n",
       "      <td>6500.0</td>\n",
       "      <td>Toyota</td>\n",
       "      <td>Camry</td>\n",
       "      <td>2008</td>\n",
       "      <td>13052000.0</td>\n",
       "    </tr>\n",
       "    <tr>\n",
       "      <th>2</th>\n",
       "      <td>7184TT36RUS</td>\n",
       "      <td>1</td>\n",
       "      <td>2100.0</td>\n",
       "      <td>Ford</td>\n",
       "      <td>Focus</td>\n",
       "      <td>1994</td>\n",
       "      <td>4187400.0</td>\n",
       "    </tr>\n",
       "    <tr>\n",
       "      <th>3</th>\n",
       "      <td>X582HE161RUS</td>\n",
       "      <td>2</td>\n",
       "      <td>2000.0</td>\n",
       "      <td>Ford</td>\n",
       "      <td>Focus</td>\n",
       "      <td>1987</td>\n",
       "      <td>1987000.0</td>\n",
       "    </tr>\n",
       "    <tr>\n",
       "      <th>4</th>\n",
       "      <td>92918M178RUS</td>\n",
       "      <td>1</td>\n",
       "      <td>5700.0</td>\n",
       "      <td>Ford</td>\n",
       "      <td>Focus</td>\n",
       "      <td>2000</td>\n",
       "      <td>11400000.0</td>\n",
       "    </tr>\n",
       "    <tr>\n",
       "      <th>...</th>\n",
       "      <td>...</td>\n",
       "      <td>...</td>\n",
       "      <td>...</td>\n",
       "      <td>...</td>\n",
       "      <td>...</td>\n",
       "      <td>...</td>\n",
       "      <td>...</td>\n",
       "    </tr>\n",
       "    <tr>\n",
       "      <th>925</th>\n",
       "      <td>S21RUS</td>\n",
       "      <td>1</td>\n",
       "      <td>1500.0</td>\n",
       "      <td>Honda</td>\n",
       "      <td>Civic</td>\n",
       "      <td>2020</td>\n",
       "      <td>3030000.0</td>\n",
       "    </tr>\n",
       "    <tr>\n",
       "      <th>926</th>\n",
       "      <td>S22RUS</td>\n",
       "      <td>1</td>\n",
       "      <td>2300.0</td>\n",
       "      <td>Nissan</td>\n",
       "      <td>Altima</td>\n",
       "      <td>2018</td>\n",
       "      <td>4641400.0</td>\n",
       "    </tr>\n",
       "    <tr>\n",
       "      <th>927</th>\n",
       "      <td>S23RUS</td>\n",
       "      <td>2</td>\n",
       "      <td>4000.0</td>\n",
       "      <td>Chevrolet</td>\n",
       "      <td>Malibu</td>\n",
       "      <td>2019</td>\n",
       "      <td>4038000.0</td>\n",
       "    </tr>\n",
       "    <tr>\n",
       "      <th>928</th>\n",
       "      <td>S24RUS</td>\n",
       "      <td>1</td>\n",
       "      <td>3500.0</td>\n",
       "      <td>Hyundai</td>\n",
       "      <td>Elantra</td>\n",
       "      <td>2021</td>\n",
       "      <td>7073500.0</td>\n",
       "    </tr>\n",
       "    <tr>\n",
       "      <th>929</th>\n",
       "      <td>S25RUS</td>\n",
       "      <td>1</td>\n",
       "      <td>5600.0</td>\n",
       "      <td>Kia</td>\n",
       "      <td>Soul</td>\n",
       "      <td>2022</td>\n",
       "      <td>11323200.0</td>\n",
       "    </tr>\n",
       "  </tbody>\n",
       "</table>\n",
       "<p>930 rows × 7 columns</p>\n",
       "</div>"
      ],
      "text/plain": [
       "        CarNumber  Refund   Fines       Make    Model  Year  Calculated\n",
       "0    Y163O8161RUS       2  3200.0       Ford    Focus  2018   3228800.0\n",
       "1     E432XX77RUS       1  6500.0     Toyota    Camry  2008  13052000.0\n",
       "2     7184TT36RUS       1  2100.0       Ford    Focus  1994   4187400.0\n",
       "3    X582HE161RUS       2  2000.0       Ford    Focus  1987   1987000.0\n",
       "4    92918M178RUS       1  5700.0       Ford    Focus  2000  11400000.0\n",
       "..            ...     ...     ...        ...      ...   ...         ...\n",
       "925        S21RUS       1  1500.0      Honda    Civic  2020   3030000.0\n",
       "926        S22RUS       1  2300.0     Nissan   Altima  2018   4641400.0\n",
       "927        S23RUS       2  4000.0  Chevrolet   Malibu  2019   4038000.0\n",
       "928        S24RUS       1  3500.0    Hyundai  Elantra  2021   7073500.0\n",
       "929        S25RUS       1  5600.0        Kia     Soul  2022  11323200.0\n",
       "\n",
       "[930 rows x 7 columns]"
      ]
     },
     "execution_count": 9,
     "metadata": {},
     "output_type": "execute_result"
    }
   ],
   "source": [
    "df['Calculated'] = df.apply(lambda row: row['Fines'] / row['Refund'] * row['Year'], axis=1)\n",
    "df"
   ]
  },
  {
   "cell_type": "markdown",
   "id": "074f08df-1165-4ad0-915b-ef77d387f17d",
   "metadata": {},
   "source": [
    "### do it using `Series` objects from the dataframe"
   ]
  },
  {
   "cell_type": "code",
   "execution_count": 10,
   "id": "ad19bb72-b262-47e0-bd57-b8a3e9ed28b7",
   "metadata": {},
   "outputs": [
    {
     "name": "stdout",
     "output_type": "stream",
     "text": [
      "259 μs ± 18.6 μs per loop (mean ± std. dev. of 7 runs, 1,000 loops each)\n"
     ]
    }
   ],
   "source": [
    "%%timeit\n",
    "df['Calculated'] = df['Fines'] / df['Refund'] * df['Year']"
   ]
  },
  {
   "cell_type": "code",
   "execution_count": 11,
   "id": "c98a2631-afdd-4ac8-8ba5-3c3742fc063c",
   "metadata": {},
   "outputs": [
    {
     "data": {
      "text/html": [
       "<div>\n",
       "<style scoped>\n",
       "    .dataframe tbody tr th:only-of-type {\n",
       "        vertical-align: middle;\n",
       "    }\n",
       "\n",
       "    .dataframe tbody tr th {\n",
       "        vertical-align: top;\n",
       "    }\n",
       "\n",
       "    .dataframe thead th {\n",
       "        text-align: right;\n",
       "    }\n",
       "</style>\n",
       "<table border=\"1\" class=\"dataframe\">\n",
       "  <thead>\n",
       "    <tr style=\"text-align: right;\">\n",
       "      <th></th>\n",
       "      <th>CarNumber</th>\n",
       "      <th>Refund</th>\n",
       "      <th>Fines</th>\n",
       "      <th>Make</th>\n",
       "      <th>Model</th>\n",
       "      <th>Year</th>\n",
       "      <th>Calculated</th>\n",
       "    </tr>\n",
       "  </thead>\n",
       "  <tbody>\n",
       "    <tr>\n",
       "      <th>0</th>\n",
       "      <td>Y163O8161RUS</td>\n",
       "      <td>2</td>\n",
       "      <td>3200.0</td>\n",
       "      <td>Ford</td>\n",
       "      <td>Focus</td>\n",
       "      <td>2018</td>\n",
       "      <td>3228800.0</td>\n",
       "    </tr>\n",
       "    <tr>\n",
       "      <th>1</th>\n",
       "      <td>E432XX77RUS</td>\n",
       "      <td>1</td>\n",
       "      <td>6500.0</td>\n",
       "      <td>Toyota</td>\n",
       "      <td>Camry</td>\n",
       "      <td>2008</td>\n",
       "      <td>13052000.0</td>\n",
       "    </tr>\n",
       "    <tr>\n",
       "      <th>2</th>\n",
       "      <td>7184TT36RUS</td>\n",
       "      <td>1</td>\n",
       "      <td>2100.0</td>\n",
       "      <td>Ford</td>\n",
       "      <td>Focus</td>\n",
       "      <td>1994</td>\n",
       "      <td>4187400.0</td>\n",
       "    </tr>\n",
       "    <tr>\n",
       "      <th>3</th>\n",
       "      <td>X582HE161RUS</td>\n",
       "      <td>2</td>\n",
       "      <td>2000.0</td>\n",
       "      <td>Ford</td>\n",
       "      <td>Focus</td>\n",
       "      <td>1987</td>\n",
       "      <td>1987000.0</td>\n",
       "    </tr>\n",
       "    <tr>\n",
       "      <th>4</th>\n",
       "      <td>92918M178RUS</td>\n",
       "      <td>1</td>\n",
       "      <td>5700.0</td>\n",
       "      <td>Ford</td>\n",
       "      <td>Focus</td>\n",
       "      <td>2000</td>\n",
       "      <td>11400000.0</td>\n",
       "    </tr>\n",
       "    <tr>\n",
       "      <th>...</th>\n",
       "      <td>...</td>\n",
       "      <td>...</td>\n",
       "      <td>...</td>\n",
       "      <td>...</td>\n",
       "      <td>...</td>\n",
       "      <td>...</td>\n",
       "      <td>...</td>\n",
       "    </tr>\n",
       "    <tr>\n",
       "      <th>925</th>\n",
       "      <td>S21RUS</td>\n",
       "      <td>1</td>\n",
       "      <td>1500.0</td>\n",
       "      <td>Honda</td>\n",
       "      <td>Civic</td>\n",
       "      <td>2020</td>\n",
       "      <td>3030000.0</td>\n",
       "    </tr>\n",
       "    <tr>\n",
       "      <th>926</th>\n",
       "      <td>S22RUS</td>\n",
       "      <td>1</td>\n",
       "      <td>2300.0</td>\n",
       "      <td>Nissan</td>\n",
       "      <td>Altima</td>\n",
       "      <td>2018</td>\n",
       "      <td>4641400.0</td>\n",
       "    </tr>\n",
       "    <tr>\n",
       "      <th>927</th>\n",
       "      <td>S23RUS</td>\n",
       "      <td>2</td>\n",
       "      <td>4000.0</td>\n",
       "      <td>Chevrolet</td>\n",
       "      <td>Malibu</td>\n",
       "      <td>2019</td>\n",
       "      <td>4038000.0</td>\n",
       "    </tr>\n",
       "    <tr>\n",
       "      <th>928</th>\n",
       "      <td>S24RUS</td>\n",
       "      <td>1</td>\n",
       "      <td>3500.0</td>\n",
       "      <td>Hyundai</td>\n",
       "      <td>Elantra</td>\n",
       "      <td>2021</td>\n",
       "      <td>7073500.0</td>\n",
       "    </tr>\n",
       "    <tr>\n",
       "      <th>929</th>\n",
       "      <td>S25RUS</td>\n",
       "      <td>1</td>\n",
       "      <td>5600.0</td>\n",
       "      <td>Kia</td>\n",
       "      <td>Soul</td>\n",
       "      <td>2022</td>\n",
       "      <td>11323200.0</td>\n",
       "    </tr>\n",
       "  </tbody>\n",
       "</table>\n",
       "<p>930 rows × 7 columns</p>\n",
       "</div>"
      ],
      "text/plain": [
       "        CarNumber  Refund   Fines       Make    Model  Year  Calculated\n",
       "0    Y163O8161RUS       2  3200.0       Ford    Focus  2018   3228800.0\n",
       "1     E432XX77RUS       1  6500.0     Toyota    Camry  2008  13052000.0\n",
       "2     7184TT36RUS       1  2100.0       Ford    Focus  1994   4187400.0\n",
       "3    X582HE161RUS       2  2000.0       Ford    Focus  1987   1987000.0\n",
       "4    92918M178RUS       1  5700.0       Ford    Focus  2000  11400000.0\n",
       "..            ...     ...     ...        ...      ...   ...         ...\n",
       "925        S21RUS       1  1500.0      Honda    Civic  2020   3030000.0\n",
       "926        S22RUS       1  2300.0     Nissan   Altima  2018   4641400.0\n",
       "927        S23RUS       2  4000.0  Chevrolet   Malibu  2019   4038000.0\n",
       "928        S24RUS       1  3500.0    Hyundai  Elantra  2021   7073500.0\n",
       "929        S25RUS       1  5600.0        Kia     Soul  2022  11323200.0\n",
       "\n",
       "[930 rows x 7 columns]"
      ]
     },
     "execution_count": 11,
     "metadata": {},
     "output_type": "execute_result"
    }
   ],
   "source": [
    "df['Calculated'] = df['Fines'] / df['Refund'] * df['Year']\n",
    "df"
   ]
  },
  {
   "cell_type": "markdown",
   "id": "298493a5-68cc-4195-8ab8-96555b9ae766",
   "metadata": {},
   "source": [
    "### do it as in the previous subtask but with the method `.values`"
   ]
  },
  {
   "cell_type": "code",
   "execution_count": 12,
   "id": "f3811cab-63ff-4baf-a07c-613b6b8683ed",
   "metadata": {},
   "outputs": [
    {
     "name": "stdout",
     "output_type": "stream",
     "text": [
      "116 μs ± 1.7 μs per loop (mean ± std. dev. of 7 runs, 10,000 loops each)\n"
     ]
    }
   ],
   "source": [
    "%%timeit\n",
    "df['Calculated'] = df['Fines'].values / df['Refund'].values * df['Year'].values"
   ]
  },
  {
   "cell_type": "code",
   "execution_count": 13,
   "id": "a2aea907-7751-45c7-8ea5-73b1d0bf1a04",
   "metadata": {},
   "outputs": [
    {
     "data": {
      "text/html": [
       "<div>\n",
       "<style scoped>\n",
       "    .dataframe tbody tr th:only-of-type {\n",
       "        vertical-align: middle;\n",
       "    }\n",
       "\n",
       "    .dataframe tbody tr th {\n",
       "        vertical-align: top;\n",
       "    }\n",
       "\n",
       "    .dataframe thead th {\n",
       "        text-align: right;\n",
       "    }\n",
       "</style>\n",
       "<table border=\"1\" class=\"dataframe\">\n",
       "  <thead>\n",
       "    <tr style=\"text-align: right;\">\n",
       "      <th></th>\n",
       "      <th>CarNumber</th>\n",
       "      <th>Refund</th>\n",
       "      <th>Fines</th>\n",
       "      <th>Make</th>\n",
       "      <th>Model</th>\n",
       "      <th>Year</th>\n",
       "      <th>Calculated</th>\n",
       "    </tr>\n",
       "  </thead>\n",
       "  <tbody>\n",
       "    <tr>\n",
       "      <th>0</th>\n",
       "      <td>Y163O8161RUS</td>\n",
       "      <td>2</td>\n",
       "      <td>3200.0</td>\n",
       "      <td>Ford</td>\n",
       "      <td>Focus</td>\n",
       "      <td>2018</td>\n",
       "      <td>3228800.0</td>\n",
       "    </tr>\n",
       "    <tr>\n",
       "      <th>1</th>\n",
       "      <td>E432XX77RUS</td>\n",
       "      <td>1</td>\n",
       "      <td>6500.0</td>\n",
       "      <td>Toyota</td>\n",
       "      <td>Camry</td>\n",
       "      <td>2008</td>\n",
       "      <td>13052000.0</td>\n",
       "    </tr>\n",
       "    <tr>\n",
       "      <th>2</th>\n",
       "      <td>7184TT36RUS</td>\n",
       "      <td>1</td>\n",
       "      <td>2100.0</td>\n",
       "      <td>Ford</td>\n",
       "      <td>Focus</td>\n",
       "      <td>1994</td>\n",
       "      <td>4187400.0</td>\n",
       "    </tr>\n",
       "    <tr>\n",
       "      <th>3</th>\n",
       "      <td>X582HE161RUS</td>\n",
       "      <td>2</td>\n",
       "      <td>2000.0</td>\n",
       "      <td>Ford</td>\n",
       "      <td>Focus</td>\n",
       "      <td>1987</td>\n",
       "      <td>1987000.0</td>\n",
       "    </tr>\n",
       "    <tr>\n",
       "      <th>4</th>\n",
       "      <td>92918M178RUS</td>\n",
       "      <td>1</td>\n",
       "      <td>5700.0</td>\n",
       "      <td>Ford</td>\n",
       "      <td>Focus</td>\n",
       "      <td>2000</td>\n",
       "      <td>11400000.0</td>\n",
       "    </tr>\n",
       "    <tr>\n",
       "      <th>...</th>\n",
       "      <td>...</td>\n",
       "      <td>...</td>\n",
       "      <td>...</td>\n",
       "      <td>...</td>\n",
       "      <td>...</td>\n",
       "      <td>...</td>\n",
       "      <td>...</td>\n",
       "    </tr>\n",
       "    <tr>\n",
       "      <th>925</th>\n",
       "      <td>S21RUS</td>\n",
       "      <td>1</td>\n",
       "      <td>1500.0</td>\n",
       "      <td>Honda</td>\n",
       "      <td>Civic</td>\n",
       "      <td>2020</td>\n",
       "      <td>3030000.0</td>\n",
       "    </tr>\n",
       "    <tr>\n",
       "      <th>926</th>\n",
       "      <td>S22RUS</td>\n",
       "      <td>1</td>\n",
       "      <td>2300.0</td>\n",
       "      <td>Nissan</td>\n",
       "      <td>Altima</td>\n",
       "      <td>2018</td>\n",
       "      <td>4641400.0</td>\n",
       "    </tr>\n",
       "    <tr>\n",
       "      <th>927</th>\n",
       "      <td>S23RUS</td>\n",
       "      <td>2</td>\n",
       "      <td>4000.0</td>\n",
       "      <td>Chevrolet</td>\n",
       "      <td>Malibu</td>\n",
       "      <td>2019</td>\n",
       "      <td>4038000.0</td>\n",
       "    </tr>\n",
       "    <tr>\n",
       "      <th>928</th>\n",
       "      <td>S24RUS</td>\n",
       "      <td>1</td>\n",
       "      <td>3500.0</td>\n",
       "      <td>Hyundai</td>\n",
       "      <td>Elantra</td>\n",
       "      <td>2021</td>\n",
       "      <td>7073500.0</td>\n",
       "    </tr>\n",
       "    <tr>\n",
       "      <th>929</th>\n",
       "      <td>S25RUS</td>\n",
       "      <td>1</td>\n",
       "      <td>5600.0</td>\n",
       "      <td>Kia</td>\n",
       "      <td>Soul</td>\n",
       "      <td>2022</td>\n",
       "      <td>11323200.0</td>\n",
       "    </tr>\n",
       "  </tbody>\n",
       "</table>\n",
       "<p>930 rows × 7 columns</p>\n",
       "</div>"
      ],
      "text/plain": [
       "        CarNumber  Refund   Fines       Make    Model  Year  Calculated\n",
       "0    Y163O8161RUS       2  3200.0       Ford    Focus  2018   3228800.0\n",
       "1     E432XX77RUS       1  6500.0     Toyota    Camry  2008  13052000.0\n",
       "2     7184TT36RUS       1  2100.0       Ford    Focus  1994   4187400.0\n",
       "3    X582HE161RUS       2  2000.0       Ford    Focus  1987   1987000.0\n",
       "4    92918M178RUS       1  5700.0       Ford    Focus  2000  11400000.0\n",
       "..            ...     ...     ...        ...      ...   ...         ...\n",
       "925        S21RUS       1  1500.0      Honda    Civic  2020   3030000.0\n",
       "926        S22RUS       1  2300.0     Nissan   Altima  2018   4641400.0\n",
       "927        S23RUS       2  4000.0  Chevrolet   Malibu  2019   4038000.0\n",
       "928        S24RUS       1  3500.0    Hyundai  Elantra  2021   7073500.0\n",
       "929        S25RUS       1  5600.0        Kia     Soul  2022  11323200.0\n",
       "\n",
       "[930 rows x 7 columns]"
      ]
     },
     "execution_count": 13,
     "metadata": {},
     "output_type": "execute_result"
    }
   ],
   "source": [
    "df['Calculated'] = df['Fines'].values / df['Refund'].values * df['Year'].values\n",
    "df"
   ]
  },
  {
   "cell_type": "markdown",
   "id": "13983805-f6ef-42b9-8356-d33b78343c3e",
   "metadata": {},
   "source": [
    "## indexing\n",
    "measure the time using the magic command `%%timeit` in the cell"
   ]
  },
  {
   "cell_type": "markdown",
   "id": "1bcea020-00af-4c67-8cd3-605cb2c5e3cc",
   "metadata": {},
   "source": [
    "### get a row for a specific `CarNumber`, for example, `’O136HO197RUS’`"
   ]
  },
  {
   "cell_type": "code",
   "execution_count": 14,
   "id": "200978f6-b58f-4216-85ce-84fb0dd0acd9",
   "metadata": {},
   "outputs": [
    {
     "name": "stdout",
     "output_type": "stream",
     "text": [
      "338 μs ± 7.93 μs per loop (mean ± std. dev. of 7 runs, 1,000 loops each)\n"
     ]
    }
   ],
   "source": [
    "%%timeit\n",
    "row = df[df['CarNumber'] == 'O136HO197RUS']"
   ]
  },
  {
   "cell_type": "code",
   "execution_count": 15,
   "id": "296ae0bd-bad1-4d72-9b16-87dddfa81dfd",
   "metadata": {},
   "outputs": [
    {
     "data": {
      "text/html": [
       "<div>\n",
       "<style scoped>\n",
       "    .dataframe tbody tr th:only-of-type {\n",
       "        vertical-align: middle;\n",
       "    }\n",
       "\n",
       "    .dataframe tbody tr th {\n",
       "        vertical-align: top;\n",
       "    }\n",
       "\n",
       "    .dataframe thead th {\n",
       "        text-align: right;\n",
       "    }\n",
       "</style>\n",
       "<table border=\"1\" class=\"dataframe\">\n",
       "  <thead>\n",
       "    <tr style=\"text-align: right;\">\n",
       "      <th></th>\n",
       "      <th>CarNumber</th>\n",
       "      <th>Refund</th>\n",
       "      <th>Fines</th>\n",
       "      <th>Make</th>\n",
       "      <th>Model</th>\n",
       "      <th>Year</th>\n",
       "      <th>Calculated</th>\n",
       "    </tr>\n",
       "  </thead>\n",
       "  <tbody>\n",
       "    <tr>\n",
       "      <th>715</th>\n",
       "      <td>O136HO197RUS</td>\n",
       "      <td>2</td>\n",
       "      <td>7800.0</td>\n",
       "      <td>Toyota</td>\n",
       "      <td>Corolla</td>\n",
       "      <td>1990</td>\n",
       "      <td>7761000.0</td>\n",
       "    </tr>\n",
       "  </tbody>\n",
       "</table>\n",
       "</div>"
      ],
      "text/plain": [
       "        CarNumber  Refund   Fines    Make    Model  Year  Calculated\n",
       "715  O136HO197RUS       2  7800.0  Toyota  Corolla  1990   7761000.0"
      ]
     },
     "execution_count": 15,
     "metadata": {},
     "output_type": "execute_result"
    }
   ],
   "source": [
    "row = df.loc[df['CarNumber'] == 'O136HO197RUS']\n",
    "row"
   ]
  },
  {
   "cell_type": "markdown",
   "id": "5f3f7427-ab76-471b-b4f2-ccaa7da197eb",
   "metadata": {},
   "source": [
    "### set the index in your dataframe with `CarNumber`"
   ]
  },
  {
   "cell_type": "code",
   "execution_count": 16,
   "id": "48324b84-a71b-43bd-8647-8e0d399605c1",
   "metadata": {},
   "outputs": [],
   "source": [
    "df_i = df.set_index('CarNumber')"
   ]
  },
  {
   "cell_type": "markdown",
   "id": "e111b672-9eac-4552-9ecc-ac4233e5f859",
   "metadata": {},
   "source": [
    "### again, get a row for the same `CarNumber`"
   ]
  },
  {
   "cell_type": "code",
   "execution_count": 17,
   "id": "dbbd65e2-f0cc-4044-8fe5-328e91e41866",
   "metadata": {},
   "outputs": [
    {
     "name": "stdout",
     "output_type": "stream",
     "text": [
      "83.6 μs ± 12.1 μs per loop (mean ± std. dev. of 7 runs, 10,000 loops each)\n"
     ]
    }
   ],
   "source": [
    "%%timeit\n",
    "row = df_i.loc['O136HO197RUS']"
   ]
  },
  {
   "cell_type": "code",
   "execution_count": 18,
   "id": "d984025a-1568-445c-9195-0a519552b01b",
   "metadata": {},
   "outputs": [
    {
     "data": {
      "text/plain": [
       "Refund                2\n",
       "Fines            7800.0\n",
       "Make             Toyota\n",
       "Model           Corolla\n",
       "Year               1990\n",
       "Calculated    7761000.0\n",
       "Name: O136HO197RUS, dtype: object"
      ]
     },
     "execution_count": 18,
     "metadata": {},
     "output_type": "execute_result"
    }
   ],
   "source": [
    "row = df_i.loc['O136HO197RUS']\n",
    "row"
   ]
  },
  {
   "cell_type": "markdown",
   "id": "1d29ff5b-ea9e-4d4c-9849-4e1c61bea307",
   "metadata": {},
   "source": [
    "## downcasting"
   ]
  },
  {
   "cell_type": "markdown",
   "id": "c368d64e-065c-466b-816a-13cf5de92d74",
   "metadata": {},
   "source": [
    "### run `df.info(memory_usage=’deep’)`, pay attention to the `Dtype` and the memory usage"
   ]
  },
  {
   "cell_type": "code",
   "execution_count": 19,
   "id": "a01a6a7c-5af7-4aba-bee5-a350b40942dd",
   "metadata": {},
   "outputs": [
    {
     "name": "stdout",
     "output_type": "stream",
     "text": [
      "<class 'pandas.core.frame.DataFrame'>\n",
      "RangeIndex: 930 entries, 0 to 929\n",
      "Data columns (total 7 columns):\n",
      " #   Column      Non-Null Count  Dtype  \n",
      "---  ------      --------------  -----  \n",
      " 0   CarNumber   930 non-null    object \n",
      " 1   Refund      930 non-null    int64  \n",
      " 2   Fines       930 non-null    float64\n",
      " 3   Make        930 non-null    object \n",
      " 4   Model       918 non-null    object \n",
      " 5   Year        930 non-null    int64  \n",
      " 6   Calculated  930 non-null    float64\n",
      "dtypes: float64(2), int64(2), object(3)\n",
      "memory usage: 203.8 KB\n"
     ]
    }
   ],
   "source": [
    "df.info(memory_usage='deep')"
   ]
  },
  {
   "cell_type": "markdown",
   "id": "aae05a10-a988-45c7-8da7-7b5025494141",
   "metadata": {},
   "source": [
    "### make a `copy()` of your initial dataframe into another dataframe `optimized`"
   ]
  },
  {
   "cell_type": "code",
   "execution_count": 20,
   "id": "70387e56-e2a0-40c0-a625-72de1247d2f1",
   "metadata": {},
   "outputs": [],
   "source": [
    "optimized = df.copy()"
   ]
  },
  {
   "cell_type": "markdown",
   "id": "c2954043-0cac-4919-b2d3-944f69177264",
   "metadata": {},
   "source": [
    "### downcast from `float64` to `float32` for all the columns"
   ]
  },
  {
   "cell_type": "code",
   "execution_count": 21,
   "id": "ff5b14ec-09e1-4c90-945f-7d8b99d5017d",
   "metadata": {},
   "outputs": [],
   "source": [
    "cols = optimized.select_dtypes(include=['float64']).columns\n",
    "optimized[cols] = optimized[cols].astype('float32')"
   ]
  },
  {
   "cell_type": "markdown",
   "id": "9611f038-8ffc-4b87-bb18-788426afccfa",
   "metadata": {},
   "source": [
    "### downcast from `int64` to the smallest numerical dtype possible"
   ]
  },
  {
   "cell_type": "code",
   "execution_count": 22,
   "id": "de5f5630-f1ed-4105-81fc-16f0655b5a94",
   "metadata": {},
   "outputs": [],
   "source": [
    "cols = optimized.select_dtypes(include=['int64']).columns\n",
    "optimized[cols] = optimized[cols].apply(pd.to_numeric, downcast='integer')"
   ]
  },
  {
   "cell_type": "markdown",
   "id": "1a4d2b83-0509-4bd3-97aa-377804031e8b",
   "metadata": {},
   "source": [
    "### run `info(memory_usage='deep')` for your new dataframe, pay attention to the Dtype and the memory usage"
   ]
  },
  {
   "cell_type": "code",
   "execution_count": 23,
   "id": "ab4939ed-a66a-49c2-b0f2-a9f8dfb59609",
   "metadata": {},
   "outputs": [
    {
     "name": "stdout",
     "output_type": "stream",
     "text": [
      "<class 'pandas.core.frame.DataFrame'>\n",
      "RangeIndex: 930 entries, 0 to 929\n",
      "Data columns (total 7 columns):\n",
      " #   Column      Non-Null Count  Dtype  \n",
      "---  ------      --------------  -----  \n",
      " 0   CarNumber   930 non-null    object \n",
      " 1   Refund      930 non-null    int8   \n",
      " 2   Fines       930 non-null    float32\n",
      " 3   Make        930 non-null    object \n",
      " 4   Model       918 non-null    object \n",
      " 5   Year        930 non-null    int16  \n",
      " 6   Calculated  930 non-null    float32\n",
      "dtypes: float32(2), int16(1), int8(1), object(3)\n",
      "memory usage: 184.7 KB\n"
     ]
    }
   ],
   "source": [
    "optimized.info(memory_usage='deep')"
   ]
  },
  {
   "cell_type": "markdown",
   "id": "f2d21e35-b62a-406d-a75d-2f0f323c85f8",
   "metadata": {},
   "source": [
    "## categories"
   ]
  },
  {
   "cell_type": "markdown",
   "id": "f2de4316-6e49-42da-85e5-8cbbce0353ac",
   "metadata": {},
   "source": [
    "### change the `object` type columns to the type `category`"
   ]
  },
  {
   "cell_type": "code",
   "execution_count": 24,
   "id": "a8fb5ed5-3b3f-4302-b45c-db004dc0a0d6",
   "metadata": {},
   "outputs": [],
   "source": [
    "cols = optimized.select_dtypes(include=['object']).columns\n",
    "optimized[cols] = optimized[cols].astype('category')"
   ]
  },
  {
   "cell_type": "markdown",
   "id": "020d8e91-987d-4c10-a6a2-ee8db20e1e7c",
   "metadata": {},
   "source": [
    "### This time, check the memory usage, it probably has a decrease of 2–3 times compared to the initial dataframe"
   ]
  },
  {
   "cell_type": "code",
   "execution_count": 25,
   "id": "4123a681-871c-46ec-a6cb-6892ba0f322c",
   "metadata": {},
   "outputs": [
    {
     "name": "stdout",
     "output_type": "stream",
     "text": [
      "<class 'pandas.core.frame.DataFrame'>\n",
      "RangeIndex: 930 entries, 0 to 929\n",
      "Data columns (total 7 columns):\n",
      " #   Column      Non-Null Count  Dtype   \n",
      "---  ------      --------------  -----   \n",
      " 0   CarNumber   930 non-null    category\n",
      " 1   Refund      930 non-null    int8    \n",
      " 2   Fines       930 non-null    float32 \n",
      " 3   Make        930 non-null    category\n",
      " 4   Model       918 non-null    category\n",
      " 5   Year        930 non-null    int16   \n",
      " 6   Calculated  930 non-null    float32 \n",
      "dtypes: category(3), float32(2), int16(1), int8(1)\n",
      "memory usage: 68.3 KB\n"
     ]
    }
   ],
   "source": [
    "optimized.info(memory_usage='deep')"
   ]
  },
  {
   "cell_type": "markdown",
   "id": "5ecbaa75-1b3e-466d-823e-5152a152d284",
   "metadata": {},
   "source": [
    "## memory clean"
   ]
  },
  {
   "cell_type": "code",
   "execution_count": 26,
   "id": "270091e3-f4e0-4a49-a4e6-86d2fdb8addb",
   "metadata": {},
   "outputs": [],
   "source": [
    "%reset_selective -f df"
   ]
  },
  {
   "cell_type": "code",
   "execution_count": 27,
   "id": "9bb6a2c6-2eab-406d-8e21-b3392c3f4532",
   "metadata": {},
   "outputs": [
    {
     "data": {
      "text/plain": [
       "0"
      ]
     },
     "execution_count": 27,
     "metadata": {},
     "output_type": "execute_result"
    }
   ],
   "source": [
    "gc.collect()"
   ]
  }
 ],
 "metadata": {
  "kernelspec": {
   "display_name": "Python 3 (ipykernel)",
   "language": "python",
   "name": "python3"
  },
  "language_info": {
   "codemirror_mode": {
    "name": "ipython",
    "version": 3
   },
   "file_extension": ".py",
   "mimetype": "text/x-python",
   "name": "python",
   "nbconvert_exporter": "python",
   "pygments_lexer": "ipython3",
   "version": "3.10.12"
  }
 },
 "nbformat": 4,
 "nbformat_minor": 5
}
