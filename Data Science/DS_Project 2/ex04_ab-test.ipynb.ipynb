{
 "cells": [
  {
   "cell_type": "code",
   "execution_count": 2,
   "id": "47fd8fd7-acfa-44b9-8989-9e5e65657f5e",
   "metadata": {},
   "outputs": [],
   "source": [
    "import pandas as pd\n",
    "import sqlite3"
   ]
  },
  {
   "cell_type": "markdown",
   "id": "4c51cd42-6b29-41da-81bc-66ec798843cc",
   "metadata": {},
   "source": [
    "## create a connection to the database "
   ]
  },
  {
   "cell_type": "code",
   "execution_count": 3,
   "id": "6e8b1ebb-9194-414b-a0bd-f9eec7f8523e",
   "metadata": {},
   "outputs": [],
   "source": [
    "conn= sqlite3.connect('../data/checking-logs.sqlite')"
   ]
  },
  {
   "cell_type": "markdown",
   "id": "208ad398-4a5d-4d03-b2de-54dfd16d89fe",
   "metadata": {},
   "source": [
    "## using only one query for each of the groups, create two dataframes: test_results and control_results with the columns time and avg_diff and only two rows\n",
    "time should have the values: after and before;\n",
    "\n",
    "avg_diff contains the average delta among all the users for the time period before each of them made their first visit to the page and afterward;\n",
    "\n",
    "only take into account the users that have observations before and after;"
   ]
  },
  {
   "cell_type": "code",
   "execution_count": 7,
   "id": "afe0696b-253c-4c3d-ba2b-2fc9e30cb770",
   "metadata": {},
   "outputs": [
    {
     "data": {
      "text/html": [
       "<div>\n",
       "<style scoped>\n",
       "    .dataframe tbody tr th:only-of-type {\n",
       "        vertical-align: middle;\n",
       "    }\n",
       "\n",
       "    .dataframe tbody tr th {\n",
       "        vertical-align: top;\n",
       "    }\n",
       "\n",
       "    .dataframe thead th {\n",
       "        text-align: right;\n",
       "    }\n",
       "</style>\n",
       "<table border=\"1\" class=\"dataframe\">\n",
       "  <thead>\n",
       "    <tr style=\"text-align: right;\">\n",
       "      <th></th>\n",
       "      <th>time</th>\n",
       "      <th>avg_diff</th>\n",
       "    </tr>\n",
       "  </thead>\n",
       "  <tbody>\n",
       "    <tr>\n",
       "      <th>0</th>\n",
       "      <td>after</td>\n",
       "      <td>-104.6000</td>\n",
       "    </tr>\n",
       "    <tr>\n",
       "      <th>1</th>\n",
       "      <td>before</td>\n",
       "      <td>-60.5625</td>\n",
       "    </tr>\n",
       "  </tbody>\n",
       "</table>\n",
       "</div>"
      ],
      "text/plain": [
       "     time  avg_diff\n",
       "0   after -104.6000\n",
       "1  before  -60.5625"
      ]
     },
     "execution_count": 7,
     "metadata": {},
     "output_type": "execute_result"
    }
   ],
   "source": [
    "query = \"\"\"\n",
    "WITH user_diffs AS (\n",
    "    SELECT \n",
    "        uid,\n",
    "        CASE \n",
    "            WHEN first_commit_ts < first_view_ts THEN 'before'\n",
    "            ELSE 'after' \n",
    "        END AS time,\n",
    "        CAST((julianday(first_commit_ts) - julianday(deadlines.deadlines, 'unixepoch')) * 24 AS INTEGER) AS diff\n",
    "    FROM \n",
    "        test\n",
    "    LEFT JOIN deadlines ON test.labname = deadlines.labs\n",
    "    WHERE \n",
    "        test.labname != 'project1'\n",
    ")\n",
    "SELECT \n",
    "    time,\n",
    "    AVG(diff) AS avg_diff\n",
    "FROM user_diffs\n",
    "WHERE uid IN (\n",
    "    SELECT uid\n",
    "    FROM user_diffs\n",
    "    GROUP BY uid\n",
    "    HAVING COUNT(DISTINCT time) = 2\n",
    ")\n",
    "GROUP BY time\n",
    "\"\"\"\n",
    "test_results = pd.read_sql(query, conn)\n",
    "test_results"
   ]
  },
  {
   "cell_type": "code",
   "execution_count": 8,
   "id": "56d788c0-6195-482a-bcf1-28e661030a9a",
   "metadata": {},
   "outputs": [
    {
     "data": {
      "text/html": [
       "<div>\n",
       "<style scoped>\n",
       "    .dataframe tbody tr th:only-of-type {\n",
       "        vertical-align: middle;\n",
       "    }\n",
       "\n",
       "    .dataframe tbody tr th {\n",
       "        vertical-align: top;\n",
       "    }\n",
       "\n",
       "    .dataframe thead th {\n",
       "        text-align: right;\n",
       "    }\n",
       "</style>\n",
       "<table border=\"1\" class=\"dataframe\">\n",
       "  <thead>\n",
       "    <tr style=\"text-align: right;\">\n",
       "      <th></th>\n",
       "      <th>time</th>\n",
       "      <th>avg_diff</th>\n",
       "    </tr>\n",
       "  </thead>\n",
       "  <tbody>\n",
       "    <tr>\n",
       "      <th>0</th>\n",
       "      <td>after</td>\n",
       "      <td>-117.636364</td>\n",
       "    </tr>\n",
       "    <tr>\n",
       "      <th>1</th>\n",
       "      <td>before</td>\n",
       "      <td>-99.464286</td>\n",
       "    </tr>\n",
       "  </tbody>\n",
       "</table>\n",
       "</div>"
      ],
      "text/plain": [
       "     time    avg_diff\n",
       "0   after -117.636364\n",
       "1  before  -99.464286"
      ]
     },
     "execution_count": 8,
     "metadata": {},
     "output_type": "execute_result"
    }
   ],
   "source": [
    "query =  \"\"\"\n",
    "WITH user_diffs AS (\n",
    "    SELECT \n",
    "        uid,\n",
    "        CASE \n",
    "            WHEN control.first_commit_ts < control.first_view_ts THEN 'before'\n",
    "            ELSE 'after' \n",
    "        END AS time,\n",
    "        CAST((julianday(control.first_commit_ts) - julianday(deadlines.deadlines, 'unixepoch')) * 24 AS INTEGER) AS diff\n",
    "    FROM \n",
    "        control\n",
    "    LEFT JOIN deadlines ON control.labname = deadlines.labs\n",
    "    WHERE \n",
    "        control.labname != 'project1'\n",
    ")\n",
    "SELECT \n",
    "    time,\n",
    "    AVG(diff) AS avg_diff\n",
    "FROM user_diffs\n",
    "WHERE uid IN (\n",
    "    SELECT uid\n",
    "    FROM user_diffs\n",
    "    GROUP BY uid\n",
    "    HAVING COUNT(DISTINCT time) = 2\n",
    ")\n",
    "GROUP BY time\n",
    "\"\"\"\n",
    "control_results = pd.read_sql(query, conn)\n",
    "control_results"
   ]
  },
  {
   "cell_type": "code",
   "execution_count": 9,
   "id": "dd965fb0-fabf-4445-a2f2-6db02f24b24d",
   "metadata": {},
   "outputs": [],
   "source": [
    "conn.close()"
   ]
  }
 ],
 "metadata": {
  "kernelspec": {
   "display_name": "Python 3 (ipykernel)",
   "language": "python",
   "name": "python3"
  },
  "language_info": {
   "codemirror_mode": {
    "name": "ipython",
    "version": 3
   },
   "file_extension": ".py",
   "mimetype": "text/x-python",
   "name": "python",
   "nbconvert_exporter": "python",
   "pygments_lexer": "ipython3",
   "version": "3.10.12"
  }
 },
 "nbformat": 4,
 "nbformat_minor": 5
}
